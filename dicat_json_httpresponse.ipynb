{
 "cells": [
  {
   "cell_type": "code",
   "execution_count": 2,
   "metadata": {},
   "outputs": [
    {
     "data": {
      "text/plain": [
       "dict"
      ]
     },
     "execution_count": 2,
     "metadata": {},
     "output_type": "execute_result"
    }
   ],
   "source": [
    "import json\n",
    "\n",
    "x = {\"id\": 1, \"title\": \"Hello World\"}\n",
    "type(x)"
   ]
  },
  {
   "cell_type": "code",
   "execution_count": null,
   "metadata": {},
   "outputs": [],
   "source": [
    "# The json.dumps function in Python is used to convert a Python object into a JSON string. \n",
    "# This function is part of the json module, \n",
    "# which provides methods for parsing JSON (reading JSON data) and generating JSON (writing JSON data)."
   ]
  },
  {
   "cell_type": "code",
   "execution_count": 5,
   "metadata": {},
   "outputs": [
    {
     "name": "stdout",
     "output_type": "stream",
     "text": [
      "<class 'str'>\n"
     ]
    },
    {
     "data": {
      "text/plain": [
       "str"
      ]
     },
     "execution_count": 5,
     "metadata": {},
     "output_type": "execute_result"
    }
   ],
   "source": [
    "json_data_str = json.dumps(x)\n",
    "print(type(json_data_str))\n",
    "type(json_data_str)"
   ]
  },
  {
   "cell_type": "code",
   "execution_count": null,
   "metadata": {},
   "outputs": [],
   "source": [
    "import csv\n",
    " \n",
    "file_path = r'C:\\Users\\PC\\Desktop\\django_api_v1\\mysite\\api\\ingestion_csv_data_api_view\\lnd_org_raw.csv'\n",
    "\n",
    "with open(file_path, 'r') as csvfile:\n",
    "    reader = csv.DictReader(csvfile)\n",
    "    for row in reader:\n",
    "        DataRecord.objects.create(\n",
    "            PIPELINE = row[0],\n",
    "            FOLDER = row[1],\n",
    "            SCRIPT = row[2],\n",
    "            # Map other fields\n",
    "        )\n",
    "# (great_expectations) C:\\Users\\PC\\Desktop\\django_api_v1\\mysite>python manage.py load_csv C:\\Users\\PC\\Desktop\\django_api_v1\\mysite\\api\\management\\commands\\lnd_org_raw.csv"
   ]
  },
  {
   "cell_type": "code",
   "execution_count": 3,
   "metadata": {},
   "outputs": [],
   "source": [
    "class BlogPostListCreate():\n",
    "    def delete(self, *args, **kwargs):\n",
    "        # Print out the positional and keyword arguments for demonstration\n",
    "        print(\"Positional arguments (*args):\", args)\n",
    "        print(\"Keyword arguments (**kwargs):\", kwargs)\n",
    "\n",
    "        # Example logic: Conditionally delete based on kwargs\n",
    "        if 'author' in kwargs:\n",
    "            author = kwargs['author']\n",
    "            # Here we pretend to filter and delete posts by a specific author\n",
    "            print(f\"Deleting posts by author: {author}\")\n",
    "        elif 'post_id' in kwargs:\n",
    "            post_id = kwargs['post_id']\n",
    "            # Here we pretend to delete a specific post by ID\n",
    "            print(f\"Deleting post with ID: {post_id}\")\n",
    "        else:\n",
    "            # Delete all posts if no specific arguments are provided\n",
    "            print(\"Deleting all posts\")"
   ]
  },
  {
   "cell_type": "code",
   "execution_count": 5,
   "metadata": {},
   "outputs": [],
   "source": [
    "# Example of how this method might be called\n",
    "blog_post_view = BlogPostListCreate()"
   ]
  },
  {
   "cell_type": "code",
   "execution_count": 6,
   "metadata": {},
   "outputs": [
    {
     "name": "stdout",
     "output_type": "stream",
     "text": [
      "Positional arguments (*args): ('extra_arg',)\n",
      "Keyword arguments (**kwargs): {'post_id': 123}\n",
      "Deleting post with ID: 123\n"
     ]
    }
   ],
   "source": [
    "# Call with both positional and keyword arguments\n",
    "blog_post_view.delete(\"extra_arg\", post_id=123)"
   ]
  },
  {
   "cell_type": "code",
   "execution_count": 7,
   "metadata": {},
   "outputs": [
    {
     "name": "stdout",
     "output_type": "stream",
     "text": [
      "Hello, Alice! You are 30 years old.\n",
      "Hello, Bob! You are unknown years old.\n",
      "Hello, Guest! You are unknown years old.\n"
     ]
    }
   ],
   "source": [
    "def greet(**kwargs):\n",
    "    name = kwargs.get('name', 'Guest')\n",
    "    age = kwargs.get('age', 'unknown')\n",
    "    \n",
    "    print(f\"Hello, {name}! You are {age} years old.\")\n",
    "\n",
    "# Examples of calling the function:\n",
    "greet(name=\"Alice\", age=30)      # Output: Hello, Alice! You are 30 years old.\n",
    "greet(name=\"Bob\")                # Output: Hello, Bob! You are unknown years old.\n",
    "greet()                          # Output: Hello, Guest! You are unknown years old.\n"
   ]
  },
  {
   "cell_type": "code",
   "execution_count": null,
   "metadata": {},
   "outputs": [],
   "source": [
    "\n",
    "# Example of how this method might be called\n",
    "blog_post_view = BlogPostListCreate()\n",
    "\n",
    "# Call with positional arguments\n",
    "blog_post_view.delete(\"additional_arg1\", \"additional_arg2\")\n",
    "\n",
    "# Call with keyword arguments\n",
    "blog_post_view.delete(author=\"JohnDoe\")\n",
    "\n",
    "# Call with both positional and keyword arguments\n",
    "blog_post_view.delete(\"extra_arg\", post_id=123)\n",
    "\n",
    "# Call with no additional arguments\n",
    "blog_post_view.delete()"
   ]
  },
  {
   "cell_type": "code",
   "execution_count": 8,
   "metadata": {},
   "outputs": [
    {
     "name": "stdout",
     "output_type": "stream",
     "text": [
      "Hello, Alice! You are 30 years old.\n",
      "Hello, Bob! You are unknown years old.\n",
      "Hello, Guest! You are unknown years old.\n"
     ]
    }
   ],
   "source": [
    "import pandas as pd\n",
    "\n",
    "def greet(**kwargs):\n",
    "    name = kwargs.get('name', 'Guest')\n",
    "    age = kwargs.get('age', 'unknown')\n",
    "    \n",
    "    print(f\"Hello, {name}! You are {age} years old.\")\n",
    "\n",
    "\n",
    "# Examples of calling the function:\n",
    "greet(name=\"Alice\", age=30)      # Output: Hello, Alice! You are 30 years old.\n",
    "greet(name=\"Bob\")                # Output: Hello, Bob! You are unknown years old.\n",
    "greet()                          # Output: Hello, Guest! You are unknown years old."
   ]
  },
  {
   "cell_type": "code",
   "execution_count": null,
   "metadata": {},
   "outputs": [],
   "source": []
  },
  {
   "cell_type": "code",
   "execution_count": 18,
   "metadata": {},
   "outputs": [
    {
     "name": "stdout",
     "output_type": "stream",
     "text": [
      "The sum is: 6\n"
     ]
    }
   ],
   "source": [
    "def sum_numbers(*args):\n",
    "    total = sum(args)\n",
    "    print(f\"The sum is: {total}\")\n",
    "\n",
    "# Examples of calling the function:\n",
    "sum_numbers(1, 2, 3)          # Output: The sum is: 6\n"
   ]
  },
  {
   "cell_type": "code",
   "execution_count": 19,
   "metadata": {},
   "outputs": [
    {
     "name": "stdout",
     "output_type": "stream",
     "text": [
      "Positional arguments (args):\n",
      "  - Alice\n",
      "  - 30\n",
      "  - Engineer\n",
      "\n",
      "Keyword arguments (kwargs):\n",
      "  - city: New York\n",
      "  - hobby: Reading\n"
     ]
    }
   ],
   "source": [
    "def describe_person(*args, **kwargs):\n",
    "    print(\"Positional arguments (args):\")\n",
    "    for arg in args:\n",
    "        print(f\"  - {arg}\")\n",
    "    \n",
    "    print(\"\\nKeyword arguments (kwargs):\")\n",
    "    for key, value in kwargs.items():\n",
    "        print(f\"  - {key}: {value}\")\n",
    "\n",
    "# Example of calling the function:\n",
    "describe_person(\"Alice\", 30, \"Engineer\", city=\"New York\", hobby=\"Reading\")\n"
   ]
  },
  {
   "cell_type": "code",
   "execution_count": 17,
   "metadata": {},
   "outputs": [
    {
     "name": "stdout",
     "output_type": "stream",
     "text": [
      "AGE 489 489\n",
      "NUMERO AGE\n"
     ]
    }
   ],
   "source": [
    "import pandas as pd\n",
    "\n",
    "def greet(**kwargs):\n",
    "    # name = kwargs.get('name', 'Guest')\n",
    "    age = kwargs.get('age', 'AGE 489 489')\n",
    "    \n",
    "    print(age)\n",
    "    return \n",
    "\n",
    "greet()  \n",
    "\n",
    "greet(age = 'NUMERO AGE')  "
   ]
  },
  {
   "cell_type": "code",
   "execution_count": null,
   "metadata": {},
   "outputs": [],
   "source": []
  }
 ],
 "metadata": {
  "kernelspec": {
   "display_name": "great_expectations",
   "language": "python",
   "name": "python3"
  },
  "language_info": {
   "codemirror_mode": {
    "name": "ipython",
    "version": 3
   },
   "file_extension": ".py",
   "mimetype": "text/x-python",
   "name": "python",
   "nbconvert_exporter": "python",
   "pygments_lexer": "ipython3",
   "version": "3.8.18"
  }
 },
 "nbformat": 4,
 "nbformat_minor": 2
}
